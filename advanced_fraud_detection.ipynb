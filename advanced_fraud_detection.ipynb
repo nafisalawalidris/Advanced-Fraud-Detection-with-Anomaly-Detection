{
 "cells": [
  {
   "cell_type": "markdown",
   "metadata": {},
   "source": [
    "# **Advanced Fraud Detection with Anomaly Detection**\n",
    "\n",
    "The primary objective of this project is to enhance the accuracy and sensitivity of fraud detection systems in financial institutions by combining traditional machine learning models with anomaly detection techniques. This will help to detect rare and novel fraud patterns, which may not be captured by conventional methods.\n",
    "\n",
    "## **Problem Statement**\n",
    "Credit card fraud is a growing concern for financial institutions and consumers. Fraudulent activities can lead to significant financial losses and undermine trust in the banking system. This project aims to develop an advanced fraud detection system using machine learning techniques, including anomaly detection, to identify fraudulent transactions with high accuracy and low false positive rates.\n",
    "\n",
    "## **Key Steps in the Project**\n",
    "\n",
    "1. **Import Libraries and Data Collection**:  \n",
    "   Load the dataset containing historical credit card transactions, ensuring it is correctly imported into the environment and prepared for analysis by addressing any file format or loading issues.\n",
    "\n",
    "2. **Data Preprocessing**:  \n",
    "   Handle missing values, scale numerical features, and separate the target variable (`Class`) from the features.\n",
    "\n",
    "3. **Model Selection**:  \n",
    "   Choose an appropriate machine learning model (e.g., Random Forest) and an anomaly detection model (e.g., Isolation Forest).\n",
    "\n",
    "4. **Model Training**:  \n",
    "   Train the selected models using the training dataset and evaluate their performance using metrics such as accuracy, precision, recall, and F1-score.\n",
    "\n",
    "5. **Ensemble Learning**:  \n",
    "   Combine the results of multiple models to improve the overall prediction performance and handle rare fraud patterns.\n",
    "\n",
    "6. **Evaluation Metrics**:  \n",
    "   Use appropriate metrics like accuracy, precision, recall, F1-score, and confusion matrix to evaluate the effectiveness of the models.\n",
    "\n",
    "7. **Deployment**:  \n",
    "   Deploy the trained models as a FastAPI application to make real-time fraud predictions using incoming transaction data.\n"
   ]
  },
  {
   "cell_type": "markdown",
   "metadata": {},
   "source": [
    "### **Step 1: Import Libraries and Data Collection**"
   ]
  },
  {
   "cell_type": "code",
   "execution_count": 26,
   "metadata": {},
   "outputs": [
    {
     "name": "stdout",
     "output_type": "stream",
     "text": [
      "All dependencies are imported successfully\n"
     ]
    }
   ],
   "source": [
    "# -------------------------- Import Libraries --------------------------\n",
    "\n",
    "# Importing necessary libraries\n",
    "import pandas as pd\n",
    "import numpy as np\n",
    "import matplotlib.pyplot as plt\n",
    "import seaborn as sns\n",
    "\n",
    "# Machine learning libraries for modeling\n",
    "from sklearn.model_selection import train_test_split\n",
    "from sklearn.preprocessing import StandardScaler\n",
    "from sklearn.ensemble import RandomForestClassifier\n",
    "from sklearn.metrics import classification_report, confusion_matrix, accuracy_score\n",
    "from sklearn.ensemble import IsolationForest\n",
    "\n",
    "# Import necessary libraries for model selection\n",
    "from sklearn.linear_model import LogisticRegression\n",
    "from sklearn.tree import DecisionTreeClassifier\n",
    "from sklearn.ensemble import RandomForestClassifier, GradientBoostingClassifier\n",
    "from sklearn.ensemble import IsolationForest\n",
    "from sklearn.svm import OneClassSVM\n",
    "from sklearn.metrics import classification_report, confusion_matrix, roc_auc_score\n",
    "from tensorflow.keras.models import Model\n",
    "from tensorflow.keras.layers import Input, Dense\n",
    "from tensorflow.keras.optimizers import Adam\n",
    "from sklearn.model_selection import GridSearchCV, cross_val_score\n",
    "from sklearn.metrics import accuracy_score, precision_score, recall_score, f1_score\n",
    "\n",
    "from sklearn.model_selection import RandomizedSearchCV\n",
    "from scipy.stats import randint\n",
    "\n",
    "# Data visualisation\n",
    "sns.set(style=\"whitegrid\")\n",
    "\n",
    "# Print confirmation that dependencies are imported\n",
    "print(\"All dependencies are imported successfully\")"
   ]
  },
  {
   "cell_type": "code",
   "execution_count": 12,
   "metadata": {},
   "outputs": [
    {
     "name": "stdout",
     "output_type": "stream",
     "text": [
      "Dataset loaded successfully!\n",
      "\n",
      "First 5 rows of the dataset:\n",
      "   Time        V1        V2        V3        V4        V5        V6        V7  \\\n",
      "0   0.0 -1.359807 -0.072781  2.536347  1.378155 -0.338321  0.462388  0.239599   \n",
      "1   0.0  1.191857  0.266151  0.166480  0.448154  0.060018 -0.082361 -0.078803   \n",
      "2   1.0 -1.358354 -1.340163  1.773209  0.379780 -0.503198  1.800499  0.791461   \n",
      "3   1.0 -0.966272 -0.185226  1.792993 -0.863291 -0.010309  1.247203  0.237609   \n",
      "4   2.0 -1.158233  0.877737  1.548718  0.403034 -0.407193  0.095921  0.592941   \n",
      "\n",
      "         V8        V9  ...       V21       V22       V23       V24       V25  \\\n",
      "0  0.098698  0.363787  ... -0.018307  0.277838 -0.110474  0.066928  0.128539   \n",
      "1  0.085102 -0.255425  ... -0.225775 -0.638672  0.101288 -0.339846  0.167170   \n",
      "2  0.247676 -1.514654  ...  0.247998  0.771679  0.909412 -0.689281 -0.327642   \n",
      "3  0.377436 -1.387024  ... -0.108300  0.005274 -0.190321 -1.175575  0.647376   \n",
      "4 -0.270533  0.817739  ... -0.009431  0.798278 -0.137458  0.141267 -0.206010   \n",
      "\n",
      "        V26       V27       V28  Amount  Class  \n",
      "0 -0.189115  0.133558 -0.021053  149.62      0  \n",
      "1  0.125895 -0.008983  0.014724    2.69      0  \n",
      "2 -0.139097 -0.055353 -0.059752  378.66      0  \n",
      "3 -0.221929  0.062723  0.061458  123.50      0  \n",
      "4  0.502292  0.219422  0.215153   69.99      0  \n",
      "\n",
      "[5 rows x 31 columns]\n",
      "\n",
      "Missing values in each column:\n",
      "Time      0\n",
      "V1        0\n",
      "V2        0\n",
      "V3        0\n",
      "V4        0\n",
      "V5        0\n",
      "V6        0\n",
      "V7        0\n",
      "V8        0\n",
      "V9        0\n",
      "V10       0\n",
      "V11       0\n",
      "V12       0\n",
      "V13       0\n",
      "V14       0\n",
      "V15       0\n",
      "V16       0\n",
      "V17       0\n",
      "V18       0\n",
      "V19       0\n",
      "V20       0\n",
      "V21       0\n",
      "V22       0\n",
      "V23       0\n",
      "V24       0\n",
      "V25       0\n",
      "V26       0\n",
      "V27       0\n",
      "V28       0\n",
      "Amount    0\n",
      "Class     0\n",
      "dtype: int64\n"
     ]
    }
   ],
   "source": [
    "# -------------------------- Loading the dataset --------------------------\n",
    "\n",
    "# Load the dataset \n",
    "file_path = r\"C:\\Users\\USER\\Downloads\\Advanced-Fraud-Detection-with-Anomaly-Detection\\creditcard.csv\"  # Use raw string for Windows path\n",
    "\n",
    "# Read the dataset into a pandas DataFrame\n",
    "try:\n",
    "    data = pd.read_csv(file_path)\n",
    "    print(\"Dataset loaded successfully!\")\n",
    "except Exception as e:\n",
    "    print(f\"Error loading dataset: {e}\")\n",
    "\n",
    "# Display the first few rows of the dataset to understand its structure\n",
    "print(\"\\nFirst 5 rows of the dataset:\")\n",
    "print(data.head())\n",
    "\n",
    "# Check for any missing values in the dataset\n",
    "print(\"\\nMissing values in each column:\")\n",
    "print(data.isnull().sum())"
   ]
  },
  {
   "cell_type": "code",
   "execution_count": 13,
   "metadata": {},
   "outputs": [
    {
     "name": "stdout",
     "output_type": "stream",
     "text": [
      "\n",
      "Summary of the dataset:\n",
      "<class 'pandas.core.frame.DataFrame'>\n",
      "RangeIndex: 284807 entries, 0 to 284806\n",
      "Data columns (total 31 columns):\n",
      " #   Column  Non-Null Count   Dtype  \n",
      "---  ------  --------------   -----  \n",
      " 0   Time    284807 non-null  float64\n",
      " 1   V1      284807 non-null  float64\n",
      " 2   V2      284807 non-null  float64\n",
      " 3   V3      284807 non-null  float64\n",
      " 4   V4      284807 non-null  float64\n",
      " 5   V5      284807 non-null  float64\n",
      " 6   V6      284807 non-null  float64\n",
      " 7   V7      284807 non-null  float64\n",
      " 8   V8      284807 non-null  float64\n",
      " 9   V9      284807 non-null  float64\n",
      " 10  V10     284807 non-null  float64\n",
      " 11  V11     284807 non-null  float64\n",
      " 12  V12     284807 non-null  float64\n",
      " 13  V13     284807 non-null  float64\n",
      " 14  V14     284807 non-null  float64\n",
      " 15  V15     284807 non-null  float64\n",
      " 16  V16     284807 non-null  float64\n",
      " 17  V17     284807 non-null  float64\n",
      " 18  V18     284807 non-null  float64\n",
      " 19  V19     284807 non-null  float64\n",
      " 20  V20     284807 non-null  float64\n",
      " 21  V21     284807 non-null  float64\n",
      " 22  V22     284807 non-null  float64\n",
      " 23  V23     284807 non-null  float64\n",
      " 24  V24     284807 non-null  float64\n",
      " 25  V25     284807 non-null  float64\n",
      " 26  V26     284807 non-null  float64\n",
      " 27  V27     284807 non-null  float64\n",
      " 28  V28     284807 non-null  float64\n",
      " 29  Amount  284807 non-null  float64\n",
      " 30  Class   284807 non-null  int64  \n",
      "dtypes: float64(30), int64(1)\n",
      "memory usage: 67.4 MB\n",
      "None\n",
      "\n",
      "Statistical summary of the dataset:\n",
      "                Time            V1            V2            V3            V4  \\\n",
      "count  284807.000000  2.848070e+05  2.848070e+05  2.848070e+05  2.848070e+05   \n",
      "mean    94813.859575  1.168375e-15  3.416908e-16 -1.379537e-15  2.074095e-15   \n",
      "std     47488.145955  1.958696e+00  1.651309e+00  1.516255e+00  1.415869e+00   \n",
      "min         0.000000 -5.640751e+01 -7.271573e+01 -4.832559e+01 -5.683171e+00   \n",
      "25%     54201.500000 -9.203734e-01 -5.985499e-01 -8.903648e-01 -8.486401e-01   \n",
      "50%     84692.000000  1.810880e-02  6.548556e-02  1.798463e-01 -1.984653e-02   \n",
      "75%    139320.500000  1.315642e+00  8.037239e-01  1.027196e+00  7.433413e-01   \n",
      "max    172792.000000  2.454930e+00  2.205773e+01  9.382558e+00  1.687534e+01   \n",
      "\n",
      "                 V5            V6            V7            V8            V9  \\\n",
      "count  2.848070e+05  2.848070e+05  2.848070e+05  2.848070e+05  2.848070e+05   \n",
      "mean   9.604066e-16  1.487313e-15 -5.556467e-16  1.213481e-16 -2.406331e-15   \n",
      "std    1.380247e+00  1.332271e+00  1.237094e+00  1.194353e+00  1.098632e+00   \n",
      "min   -1.137433e+02 -2.616051e+01 -4.355724e+01 -7.321672e+01 -1.343407e+01   \n",
      "25%   -6.915971e-01 -7.682956e-01 -5.540759e-01 -2.086297e-01 -6.430976e-01   \n",
      "50%   -5.433583e-02 -2.741871e-01  4.010308e-02  2.235804e-02 -5.142873e-02   \n",
      "75%    6.119264e-01  3.985649e-01  5.704361e-01  3.273459e-01  5.971390e-01   \n",
      "max    3.480167e+01  7.330163e+01  1.205895e+02  2.000721e+01  1.559499e+01   \n",
      "\n",
      "       ...           V21           V22           V23           V24  \\\n",
      "count  ...  2.848070e+05  2.848070e+05  2.848070e+05  2.848070e+05   \n",
      "mean   ...  1.654067e-16 -3.568593e-16  2.578648e-16  4.473266e-15   \n",
      "std    ...  7.345240e-01  7.257016e-01  6.244603e-01  6.056471e-01   \n",
      "min    ... -3.483038e+01 -1.093314e+01 -4.480774e+01 -2.836627e+00   \n",
      "25%    ... -2.283949e-01 -5.423504e-01 -1.618463e-01 -3.545861e-01   \n",
      "50%    ... -2.945017e-02  6.781943e-03 -1.119293e-02  4.097606e-02   \n",
      "75%    ...  1.863772e-01  5.285536e-01  1.476421e-01  4.395266e-01   \n",
      "max    ...  2.720284e+01  1.050309e+01  2.252841e+01  4.584549e+00   \n",
      "\n",
      "                V25           V26           V27           V28         Amount  \\\n",
      "count  2.848070e+05  2.848070e+05  2.848070e+05  2.848070e+05  284807.000000   \n",
      "mean   5.340915e-16  1.683437e-15 -3.660091e-16 -1.227390e-16      88.349619   \n",
      "std    5.212781e-01  4.822270e-01  4.036325e-01  3.300833e-01     250.120109   \n",
      "min   -1.029540e+01 -2.604551e+00 -2.256568e+01 -1.543008e+01       0.000000   \n",
      "25%   -3.171451e-01 -3.269839e-01 -7.083953e-02 -5.295979e-02       5.600000   \n",
      "50%    1.659350e-02 -5.213911e-02  1.342146e-03  1.124383e-02      22.000000   \n",
      "75%    3.507156e-01  2.409522e-01  9.104512e-02  7.827995e-02      77.165000   \n",
      "max    7.519589e+00  3.517346e+00  3.161220e+01  3.384781e+01   25691.160000   \n",
      "\n",
      "               Class  \n",
      "count  284807.000000  \n",
      "mean        0.001727  \n",
      "std         0.041527  \n",
      "min         0.000000  \n",
      "25%         0.000000  \n",
      "50%         0.000000  \n",
      "75%         0.000000  \n",
      "max         1.000000  \n",
      "\n",
      "[8 rows x 31 columns]\n",
      "\n",
      "Class distribution (fraudulent or non-fraudulent transactions):\n",
      "Class\n",
      "0    284315\n",
      "1       492\n",
      "Name: count, dtype: int64\n",
      "\n",
      "Checking data types of each column:\n",
      "Time      float64\n",
      "V1        float64\n",
      "V2        float64\n",
      "V3        float64\n",
      "V4        float64\n",
      "V5        float64\n",
      "V6        float64\n",
      "V7        float64\n",
      "V8        float64\n",
      "V9        float64\n",
      "V10       float64\n",
      "V11       float64\n",
      "V12       float64\n",
      "V13       float64\n",
      "V14       float64\n",
      "V15       float64\n",
      "V16       float64\n",
      "V17       float64\n",
      "V18       float64\n",
      "V19       float64\n",
      "V20       float64\n",
      "V21       float64\n",
      "V22       float64\n",
      "V23       float64\n",
      "V24       float64\n",
      "V25       float64\n",
      "V26       float64\n",
      "V27       float64\n",
      "V28       float64\n",
      "Amount    float64\n",
      "Class       int64\n",
      "dtype: object\n"
     ]
    }
   ],
   "source": [
    "# Get a summary of the dataset, including column names and data types\n",
    "print(\"\\nSummary of the dataset:\")\n",
    "print(data.info())\n",
    "\n",
    "# Display basic statistical details about the dataset\n",
    "print(\"\\nStatistical summary of the dataset:\")\n",
    "print(data.describe())\n",
    "\n",
    "# Check the distribution of the target variable (fraud detection, 'Class' column)\n",
    "print(\"\\nClass distribution (fraudulent or non-fraudulent transactions):\")\n",
    "print(data['Class'].value_counts())\n",
    "\n",
    "# Check for any data type inconsistencies (numeric data stored as object)\n",
    "print(\"\\nChecking data types of each column:\")\n",
    "print(data.dtypes)"
   ]
  },
  {
   "cell_type": "code",
   "execution_count": 14,
   "metadata": {},
   "outputs": [
    {
     "name": "stderr",
     "output_type": "stream",
     "text": [
      "C:\\Users\\USER\\AppData\\Local\\Temp\\ipykernel_1604\\3153319001.py:9: FutureWarning: \n",
      "\n",
      "Passing `palette` without assigning `hue` is deprecated and will be removed in v0.14.0. Assign the `x` variable to `hue` and set `legend=False` for the same effect.\n",
      "\n",
      "  ax = sns.countplot(x='Class', data=data, palette=\"coolwarm\", edgecolor='black')\n"
     ]
    },
    {
     "data": {
      "image/png": "[encoded data removed]",
      "text/plain": [
       "<Figure size 800x600 with 1 Axes>"
      ]
     },
     "metadata": {},
     "output_type": "display_data"
    }
   ],
   "source": [
    "# Visualising the class imbalance (fraud vs non-fraud)\n",
    "plt.figure(figsize=(8, 6))\n",
    "\n",
    "# Use a more modern color palette and a refined style\n",
    "sns.set(style=\"whitegrid\")  # Use a modern, clean grid background\n",
    "sns.set_palette(\"coolwarm\")  # Choose a more modern, visually appealing color palette\n",
    "\n",
    "# Countplot with additional styling and annotations\n",
    "ax = sns.countplot(x='Class', data=data, palette=\"coolwarm\", edgecolor='black')\n",
    "\n",
    "# Title and labels with a more modern font style\n",
    "ax.set_title(\"Distribution of Fraudulent vs Non-Fraudulent Transactions\", fontsize=16, weight='bold', color='darkslategray')\n",
    "ax.set_xlabel(\"Class (0: Non-Fraud, 1: Fraud)\", fontsize=12, weight='bold', color='dimgray')\n",
    "ax.set_ylabel(\"Count\", fontsize=12, weight='bold', color='dimgray')\n",
    "\n",
    "# Add count annotations on top of each bar\n",
    "for p in ax.patches:\n",
    "    ax.annotate(f'{p.get_height():,.0f}', (p.get_x() + p.get_width() / 2., p.get_height()),\n",
    "                ha='center', va='center', fontsize=12, color='black', fontweight='bold')\n",
    "\n",
    "# Remove spines for a cleaner look\n",
    "sns.despine()\n",
    "\n",
    "# Set the x-tick labels and make them more readable\n",
    "plt.xticks([0, 1], ['Non-Fraudulent (0)', 'Fraudulent (1)'], rotation=0)\n",
    "\n",
    "# Display the plot\n",
    "plt.tight_layout()\n",
    "plt.show()"
   ]
  },
  {
   "cell_type": "markdown",
   "metadata": {},
   "source": [
    "### **Step 2: Data Preprocessing**"
   ]
  },
  {
   "cell_type": "code",
   "execution_count": 15,
   "metadata": {},
   "outputs": [
    {
     "name": "stdout",
     "output_type": "stream",
     "text": [
      "\n",
      "Handling missing values...\n",
      "Rows after handling missing values: 284807\n",
      "\n",
      "Separating features and target variable...\n",
      "Features and target separated successfully\n"
     ]
    }
   ],
   "source": [
    "# -------------------------- Data Preprocessing --------------------------\n",
    "\n",
    "# Handle missing values\n",
    "print(\"\\nHandling missing values...\")\n",
    "data_cleaned = data.dropna()  # Drop rows with missing values\n",
    "print(f\"Rows after handling missing values: {len(data_cleaned)}\")\n",
    "\n",
    "# Separate features and target variable\n",
    "print(\"\\nSeparating features and target variable...\")\n",
    "X = data_cleaned.drop(columns=['Class'])  # Features\n",
    "y = data_cleaned['Class']  # Target variable\n",
    "print(\"Features and target separated successfully\")"
   ]
  },
  {
   "cell_type": "code",
   "execution_count": 16,
   "metadata": {},
   "outputs": [
    {
     "name": "stdout",
     "output_type": "stream",
     "text": [
      "\n",
      "Feature scaling completed successfully\n",
      "\n",
      "First 5 rows of scaled features:\n",
      "[[-1.99658302 -0.69424232 -0.04407492  1.6727735   0.97336551 -0.24511658\n",
      "   0.34706795  0.19367894  0.08263728  0.33112778  0.08338555 -0.54040704\n",
      "  -0.61829572 -0.99609892 -0.32461019  1.60401384 -0.53683287  0.24486345\n",
      "   0.03076993  0.49628203  0.32611802 -0.02492336  0.38285444 -0.17691133\n",
      "   0.11050692  0.24658544 -0.39217043  0.33089162 -0.06378115  0.24496426]\n",
      " [-1.99658302  0.60849633  0.16117592  0.1097971   0.31652293  0.04348335\n",
      "  -0.06181997 -0.06370021  0.07125348 -0.23249419 -0.15334963  1.58000285\n",
      "   1.06608857  0.4914182  -0.14998248  0.69436042  0.52943375 -0.13516997\n",
      "  -0.21876258 -0.17908605 -0.08961086 -0.3073768  -0.88007675  0.16220118\n",
      "  -0.56113055  0.3206939   0.26106948 -0.02225568  0.04460752 -0.34247454]\n",
      " [-1.99656197 -0.69350046 -0.81157783  1.16946849  0.26823129 -0.36457179\n",
      "   1.35145359  0.63977564  0.20737273 -1.37867535  0.19069961  0.61182971\n",
      "   0.06613662  0.72069985 -0.17311389  2.56290618 -3.29823537  1.30686788\n",
      "  -0.14478999 -2.77856085  0.68097497  0.3376317   1.06335827  1.45631975\n",
      "  -1.13809214 -0.62853672 -0.28844675 -0.13713686 -0.18102083  1.16068593]\n",
      " [-1.99656197 -0.4933249  -0.11216942  1.18251645 -0.60972664 -0.00746888\n",
      "   0.93614983  0.19207064  0.3160176  -1.26250317 -0.05046795 -0.22189161\n",
      "   0.17837099  0.5101687  -0.30036049 -0.68983741 -1.20929599 -0.80544464\n",
      "   2.34530452 -1.51420492 -0.26985523 -0.1474433   0.00726691 -0.30477655\n",
      "  -1.94102714  1.24190371 -0.46021734  0.15539621  0.18618859  0.14053425]\n",
      " [-1.99654091 -0.59132976  0.53154105  1.02141168  0.2846554  -0.29501544\n",
      "   0.07199858  0.47930228 -0.22651023  0.74432629  0.69162503 -0.80614659\n",
      "   0.53862665  1.35224435 -1.16803351  0.19132347 -0.51520512 -0.27908079\n",
      "  -0.045569    0.9870373   0.52993879 -0.01283922  1.10001127 -0.2201234\n",
      "   0.23325009 -0.39520164  1.0416113   0.5436198   0.65181592 -0.07340334]]\n",
      "\n",
      "Data split into training and testing sets successfully\n"
     ]
    }
   ],
   "source": [
    "# Scale numerical features using StandardScaler\n",
    "scaler = StandardScaler()\n",
    "try:\n",
    "    X_scaled = scaler.fit_transform(X)\n",
    "    print(\"\\nFeature scaling completed successfully\")\n",
    "except Exception as e:\n",
    "    print(f\"Error during feature scaling: {e}\")\n",
    "\n",
    "# Confirm scaling success by checking the first few rows\n",
    "print(\"\\nFirst 5 rows of scaled features:\")\n",
    "print(X_scaled[:5])\n",
    "\n",
    "# Split the data into training and testing sets (80-20 split)\n",
    "try:\n",
    "    X_train, X_test, y_train, y_test = train_test_split(X_scaled, y, test_size=0.2, random_state=42, stratify=y)\n",
    "    print(\"\\nData split into training and testing sets successfully\")\n",
    "except Exception as e:\n",
    "    print(f\"Error during train-test split: {e}\")"
   ]
  },
  {
   "cell_type": "code",
   "execution_count": 17,
   "metadata": {},
   "outputs": [
    {
     "name": "stdout",
     "output_type": "stream",
     "text": [
      "\n",
      "Training set target distribution:\n",
      "Class\n",
      "0    0.998271\n",
      "1    0.001729\n",
      "Name: proportion, dtype: float64\n",
      "\n",
      "Testing set target distribution:\n",
      "Class\n",
      "0    0.99828\n",
      "1    0.00172\n",
      "Name: proportion, dtype: float64\n",
      "\n",
      "Data preprocessing completed successfully\n"
     ]
    }
   ],
   "source": [
    "# Check the distribution of the target variable in train and test sets\n",
    "print(\"\\nTraining set target distribution:\")\n",
    "print(y_train.value_counts(normalize=True))\n",
    "print(\"\\nTesting set target distribution:\")\n",
    "print(y_test.value_counts(normalize=True))\n",
    "\n",
    "# Print confirmation of successful data preprocessing\n",
    "print(\"\\nData preprocessing completed successfully\")"
   ]
  },
  {
   "cell_type": "markdown",
   "metadata": {},
   "source": [
    "### **Step 3: Model Selection**"
   ]
  },
  {
   "cell_type": "code",
   "execution_count": 18,
   "metadata": {},
   "outputs": [
    {
     "name": "stdout",
     "output_type": "stream",
     "text": [
      "\n",
      "Supervised Learning Models:\n",
      "1. Logistic Regression: LogisticRegression(random_state=42)\n",
      "2. Decision Tree: DecisionTreeClassifier(random_state=42)\n",
      "3. Random Forest: RandomForestClassifier(random_state=42)\n",
      "4. Gradient Boosting: GradientBoostingClassifier(random_state=42)\n",
      "\n",
      "Anomaly Detection Models:\n",
      "1. Isolation Forest: IsolationForest(contamination=0.01, random_state=42)\n",
      "2. One-Class SVM: OneClassSVM(gamma=0.001, nu=0.01)\n",
      "3. Autoencoder Model Summary:\n"
     ]
    },
    {
     "data": {
      "text/html": [
       "<pre style=\"white-space:pre;overflow-x:auto;line-height:normal;font-family:Menlo,'DejaVu Sans Mono',consolas,'Courier New',monospace\"><span style=\"font-weight: bold\">Model: \"functional_2\"</span>\n",
       "</pre>\n"
      ],
      "text/plain": [
       "\u001b[1mModel: \"functional_2\"\u001b[0m\n"
      ]
     },
     "metadata": {},
     "output_type": "display_data"
    },
    {
     "data": {
      "text/html": [
       "<pre style=\"white-space:pre;overflow-x:auto;line-height:normal;font-family:Menlo,'DejaVu Sans Mono',consolas,'Courier New',monospace\">┏━━━━━━━━━━━━━━━━━━━━━━━━━━━━━━━━━┳━━━━━━━━━━━━━━━━━━━━━━━━┳━━━━━━━━━━━━━━━┓\n",
       "┃<span style=\"font-weight: bold\"> Layer (type)                    </span>┃<span style=\"font-weight: bold\"> Output Shape           </span>┃<span style=\"font-weight: bold\">       Param # </span>┃\n",
       "┡━━━━━━━━━━━━━━━━━━━━━━━━━━━━━━━━━╇━━━━━━━━━━━━━━━━━━━━━━━━╇━━━━━━━━━━━━━━━┩\n",
       "│ input_layer_2 (<span style=\"color: #0087ff; text-decoration-color: #0087ff\">InputLayer</span>)      │ (<span style=\"color: #00d7ff; text-decoration-color: #00d7ff\">None</span>, <span style=\"color: #00af00; text-decoration-color: #00af00\">30</span>)             │             <span style=\"color: #00af00; text-decoration-color: #00af00\">0</span> │\n",
       "├─────────────────────────────────┼────────────────────────┼───────────────┤\n",
       "│ dense_12 (<span style=\"color: #0087ff; text-decoration-color: #0087ff\">Dense</span>)                │ (<span style=\"color: #00d7ff; text-decoration-color: #00d7ff\">None</span>, <span style=\"color: #00af00; text-decoration-color: #00af00\">32</span>)             │           <span style=\"color: #00af00; text-decoration-color: #00af00\">992</span> │\n",
       "├─────────────────────────────────┼────────────────────────┼───────────────┤\n",
       "│ dense_13 (<span style=\"color: #0087ff; text-decoration-color: #0087ff\">Dense</span>)                │ (<span style=\"color: #00d7ff; text-decoration-color: #00d7ff\">None</span>, <span style=\"color: #00af00; text-decoration-color: #00af00\">16</span>)             │           <span style=\"color: #00af00; text-decoration-color: #00af00\">528</span> │\n",
       "├─────────────────────────────────┼────────────────────────┼───────────────┤\n",
       "│ dense_14 (<span style=\"color: #0087ff; text-decoration-color: #0087ff\">Dense</span>)                │ (<span style=\"color: #00d7ff; text-decoration-color: #00d7ff\">None</span>, <span style=\"color: #00af00; text-decoration-color: #00af00\">8</span>)              │           <span style=\"color: #00af00; text-decoration-color: #00af00\">136</span> │\n",
       "├─────────────────────────────────┼────────────────────────┼───────────────┤\n",
       "│ dense_15 (<span style=\"color: #0087ff; text-decoration-color: #0087ff\">Dense</span>)                │ (<span style=\"color: #00d7ff; text-decoration-color: #00d7ff\">None</span>, <span style=\"color: #00af00; text-decoration-color: #00af00\">16</span>)             │           <span style=\"color: #00af00; text-decoration-color: #00af00\">144</span> │\n",
       "├─────────────────────────────────┼────────────────────────┼───────────────┤\n",
       "│ dense_16 (<span style=\"color: #0087ff; text-decoration-color: #0087ff\">Dense</span>)                │ (<span style=\"color: #00d7ff; text-decoration-color: #00d7ff\">None</span>, <span style=\"color: #00af00; text-decoration-color: #00af00\">32</span>)             │           <span style=\"color: #00af00; text-decoration-color: #00af00\">544</span> │\n",
       "├─────────────────────────────────┼────────────────────────┼───────────────┤\n",
       "│ dense_17 (<span style=\"color: #0087ff; text-decoration-color: #0087ff\">Dense</span>)                │ (<span style=\"color: #00d7ff; text-decoration-color: #00d7ff\">None</span>, <span style=\"color: #00af00; text-decoration-color: #00af00\">30</span>)             │           <span style=\"color: #00af00; text-decoration-color: #00af00\">990</span> │\n",
       "└─────────────────────────────────┴────────────────────────┴───────────────┘\n",
       "</pre>\n"
      ],
      "text/plain": [
       "┏━━━━━━━━━━━━━━━━━━━━━━━━━━━━━━━━━┳━━━━━━━━━━━━━━━━━━━━━━━━┳━━━━━━━━━━━━━━━┓\n",
       "┃\u001b[1m \u001b[0m\u001b[1mLayer (type)                   \u001b[0m\u001b[1m \u001b[0m┃\u001b[1m \u001b[0m\u001b[1mOutput Shape          \u001b[0m\u001b[1m \u001b[0m┃\u001b[1m \u001b[0m\u001b[1m      Param #\u001b[0m\u001b[1m \u001b[0m┃\n",
       "┡━━━━━━━━━━━━━━━━━━━━━━━━━━━━━━━━━╇━━━━━━━━━━━━━━━━━━━━━━━━╇━━━━━━━━━━━━━━━┩\n",
       "│ input_layer_2 (\u001b[38;5;33mInputLayer\u001b[0m)      │ (\u001b[38;5;45mNone\u001b[0m, \u001b[38;5;34m30\u001b[0m)             │             \u001b[38;5;34m0\u001b[0m │\n",
       "├─────────────────────────────────┼────────────────────────┼───────────────┤\n",
       "│ dense_12 (\u001b[38;5;33mDense\u001b[0m)                │ (\u001b[38;5;45mNone\u001b[0m, \u001b[38;5;34m32\u001b[0m)             │           \u001b[38;5;34m992\u001b[0m │\n",
       "├─────────────────────────────────┼────────────────────────┼───────────────┤\n",
       "│ dense_13 (\u001b[38;5;33mDense\u001b[0m)                │ (\u001b[38;5;45mNone\u001b[0m, \u001b[38;5;34m16\u001b[0m)             │           \u001b[38;5;34m528\u001b[0m │\n",
       "├─────────────────────────────────┼────────────────────────┼───────────────┤\n",
       "│ dense_14 (\u001b[38;5;33mDense\u001b[0m)                │ (\u001b[38;5;45mNone\u001b[0m, \u001b[38;5;34m8\u001b[0m)              │           \u001b[38;5;34m136\u001b[0m │\n",
       "├─────────────────────────────────┼────────────────────────┼───────────────┤\n",
       "│ dense_15 (\u001b[38;5;33mDense\u001b[0m)                │ (\u001b[38;5;45mNone\u001b[0m, \u001b[38;5;34m16\u001b[0m)             │           \u001b[38;5;34m144\u001b[0m │\n",
       "├─────────────────────────────────┼────────────────────────┼───────────────┤\n",
       "│ dense_16 (\u001b[38;5;33mDense\u001b[0m)                │ (\u001b[38;5;45mNone\u001b[0m, \u001b[38;5;34m32\u001b[0m)             │           \u001b[38;5;34m544\u001b[0m │\n",
       "├─────────────────────────────────┼────────────────────────┼───────────────┤\n",
       "│ dense_17 (\u001b[38;5;33mDense\u001b[0m)                │ (\u001b[38;5;45mNone\u001b[0m, \u001b[38;5;34m30\u001b[0m)             │           \u001b[38;5;34m990\u001b[0m │\n",
       "└─────────────────────────────────┴────────────────────────┴───────────────┘\n"
      ]
     },
     "metadata": {},
     "output_type": "display_data"
    },
    {
     "data": {
      "text/html": [
       "<pre style=\"white-space:pre;overflow-x:auto;line-height:normal;font-family:Menlo,'DejaVu Sans Mono',consolas,'Courier New',monospace\"><span style=\"font-weight: bold\"> Total params: </span><span style=\"color: #00af00; text-decoration-color: #00af00\">3,334</span> (13.02 KB)\n",
       "</pre>\n"
      ],
      "text/plain": [
       "\u001b[1m Total params: \u001b[0m\u001b[38;5;34m3,334\u001b[0m (13.02 KB)\n"
      ]
     },
     "metadata": {},
     "output_type": "display_data"
    },
    {
     "data": {
      "text/html": [
       "<pre style=\"white-space:pre;overflow-x:auto;line-height:normal;font-family:Menlo,'DejaVu Sans Mono',consolas,'Courier New',monospace\"><span style=\"font-weight: bold\"> Trainable params: </span><span style=\"color: #00af00; text-decoration-color: #00af00\">3,334</span> (13.02 KB)\n",
       "</pre>\n"
      ],
      "text/plain": [
       "\u001b[1m Trainable params: \u001b[0m\u001b[38;5;34m3,334\u001b[0m (13.02 KB)\n"
      ]
     },
     "metadata": {},
     "output_type": "display_data"
    },
    {
     "data": {
      "text/html": [
       "<pre style=\"white-space:pre;overflow-x:auto;line-height:normal;font-family:Menlo,'DejaVu Sans Mono',consolas,'Courier New',monospace\"><span style=\"font-weight: bold\"> Non-trainable params: </span><span style=\"color: #00af00; text-decoration-color: #00af00\">0</span> (0.00 B)\n",
       "</pre>\n"
      ],
      "text/plain": [
       "\u001b[1m Non-trainable params: \u001b[0m\u001b[38;5;34m0\u001b[0m (0.00 B)\n"
      ]
     },
     "metadata": {},
     "output_type": "display_data"
    },
    {
     "name": "stdout",
     "output_type": "stream",
     "text": [
      "\n",
      "Model selection completed successfully\n"
     ]
    }
   ],
   "source": [
    "# -------------------------- Model Selection --------------------------\n",
    "\n",
    "# Initialise supervised learning models\n",
    "logistic_model = LogisticRegression(random_state=42)\n",
    "decision_tree_model = DecisionTreeClassifier(random_state=42)\n",
    "random_forest_model = RandomForestClassifier(random_state=42, n_estimators=100)\n",
    "gradient_boosting_model = GradientBoostingClassifier(random_state=42)\n",
    "\n",
    "# Initialize anomaly detection models\n",
    "isolation_forest_model = IsolationForest(random_state=42, contamination=0.01)\n",
    "one_class_svm_model = OneClassSVM(kernel='rbf', gamma=0.001, nu=0.01)\n",
    "\n",
    "# Define Autoencoder architecture for anomaly detection\n",
    "def build_autoencoder(input_dim):\n",
    "    input_layer = Input(shape=(input_dim,))\n",
    "    encoder = Dense(32, activation=\"relu\")(input_layer)\n",
    "    encoder = Dense(16, activation=\"relu\")(encoder)\n",
    "    encoder = Dense(8, activation=\"relu\")(encoder)\n",
    "\n",
    "    decoder = Dense(16, activation=\"relu\")(encoder)\n",
    "    decoder = Dense(32, activation=\"relu\")(decoder)\n",
    "    decoder = Dense(input_dim, activation=\"sigmoid\")(decoder)\n",
    "\n",
    "    autoencoder = Model(inputs=input_layer, outputs=decoder)\n",
    "    autoencoder.compile(optimizer=Adam(learning_rate=0.001), loss='mse')\n",
    "    return autoencoder\n",
    "\n",
    "# Prepare data for Autoencoder\n",
    "input_dim = X_train.shape[1]\n",
    "autoencoder_model = build_autoencoder(input_dim)\n",
    "\n",
    "# Print initialized models\n",
    "print(\"\\nSupervised Learning Models:\")\n",
    "print(f\"1. Logistic Regression: {logistic_model}\")\n",
    "print(f\"2. Decision Tree: {decision_tree_model}\")\n",
    "print(f\"3. Random Forest: {random_forest_model}\")\n",
    "print(f\"4. Gradient Boosting: {gradient_boosting_model}\")\n",
    "\n",
    "print(\"\\nAnomaly Detection Models:\")\n",
    "print(f\"1. Isolation Forest: {isolation_forest_model}\")\n",
    "print(f\"2. One-Class SVM: {one_class_svm_model}\")\n",
    "print(f\"3. Autoencoder Model Summary:\")\n",
    "autoencoder_model.summary()\n",
    "\n",
    "# Confirm model selection step is complete\n",
    "print(\"\\nModel selection completed successfully\")"
   ]
  },
  {
   "cell_type": "markdown",
   "metadata": {},
   "source": [
    "### **Step 3: Model Training**"
   ]
  },
  {
   "cell_type": "code",
   "execution_count": 20,
   "metadata": {},
   "outputs": [
    {
     "name": "stdout",
     "output_type": "stream",
     "text": [
      "Models trained successfully\n"
     ]
    }
   ],
   "source": [
    "# -------------------------- Fitting the Model --------------------------\n",
    "\n",
    "# Initialise models\n",
    "logistic_model = LogisticRegression(random_state=42)\n",
    "decision_tree_model = DecisionTreeClassifier(random_state=42)\n",
    "random_forest_model = RandomForestClassifier(random_state=42)\n",
    "gradient_boosting_model = GradientBoostingClassifier(random_state=42)\n",
    "\n",
    "# Train models\n",
    "logistic_model.fit(X_train, y_train)\n",
    "decision_tree_model.fit(X_train, y_train)\n",
    "random_forest_model.fit(X_train, y_train)\n",
    "gradient_boosting_model.fit(X_train, y_train)\n",
    "\n",
    "print(\"Models trained successfully\")"
   ]
  },
  {
   "cell_type": "code",
   "execution_count": 32,
   "metadata": {},
   "outputs": [
    {
     "name": "stdout",
     "output_type": "stream",
     "text": [
      "Best Hyperparameters for Decision Tree: {'min_samples_split': 10, 'min_samples_leaf': 4, 'max_depth': 10}\n"
     ]
    }
   ],
   "source": [
    "# -------------------------- Hyperparameter Tuning --------------------------\n",
    "\n",
    "# Randomised Search for Decision Tree\n",
    "tree_params = {'max_depth': [5, 10, 15, 20], 'min_samples_split': [2, 5, 10], 'min_samples_leaf': [1, 2, 4]}\n",
    "tree_random_search = RandomizedSearchCV(decision_tree_model, tree_params, n_iter=10, cv=3, random_state=42, n_jobs=-1)\n",
    "tree_random_search.fit(X_train, y_train)\n",
    "print(\"Best Hyperparameters for Decision Tree:\", tree_random_search.best_params_)"
   ]
  },
  {
   "cell_type": "code",
   "execution_count": 33,
   "metadata": {},
   "outputs": [
    {
     "name": "stdout",
     "output_type": "stream",
     "text": [
      "Best Hyperparameters for Random Forest: {'n_estimators': 100, 'min_samples_split': 5, 'min_samples_leaf': 1, 'max_depth': 20}\n"
     ]
    }
   ],
   "source": [
    "# Randomised Search for Random Forest\n",
    "forest_params = {'n_estimators': [100, 200, 300], 'max_depth': [10, 20, 30], 'min_samples_split': [2, 5, 10], 'min_samples_leaf': [1, 2, 4]}\n",
    "forest_random_search = RandomizedSearchCV(random_forest_model, forest_params, n_iter=10, cv=3, random_state=42, n_jobs=-1)\n",
    "forest_random_search.fit(X_train, y_train)\n",
    "print(\"Best Hyperparameters for Random Forest:\", forest_random_search.best_params_)"
   ]
  },
  {
   "cell_type": "code",
   "execution_count": 36,
   "metadata": {},
   "outputs": [
    {
     "name": "stdout",
     "output_type": "stream",
     "text": [
      "Best Hyperparameters for Logistic Regression:\n",
      "{'solver': 'liblinear', 'penalty': 'l1', 'max_iter': 100, 'C': 10}\n",
      "Best Accuracy Score: 0.9992\n"
     ]
    }
   ],
   "source": [
    "# Define the hyperparameter grid\n",
    "logistic_params = {\n",
    "    'C': [0.01, 0.1, 1, 10], 'solver': ['liblinear', 'saga'], 'penalty': ['l1', 'l2'], 'max_iter': [100, 200]\n",
    "}\n",
    "\n",
    "# Initialise the Logistic Regression model\n",
    "logistic_model = LogisticRegression(random_state=42)\n",
    "\n",
    "# Setup RandomizedSearchCV\n",
    "logistic_random_search = RandomizedSearchCV(estimator=logistic_model,\n",
    "    param_distributions=logistic_params,\n",
    "    n_iter=10,  # Randomly search 10 combinations\n",
    "    cv=3,  # 3-fold cross-validation\n",
    "    scoring='accuracy',  # Evaluation metric\n",
    "    random_state=42,  # Reproducibility\n",
    "    n_jobs=-1  # Utilise all available processors\n",
    ")\n",
    "\n",
    "# Perform the Randomised Search\n",
    "logistic_random_search.fit(X_train, y_train)\n",
    "\n",
    "# Output the best hyperparameters and accuracy score\n",
    "print(\"Best Hyperparameters for Logistic Regression:\")\n",
    "print(logistic_random_search.best_params_)\n",
    "print(f\"Best Accuracy Score: {logistic_random_search.best_score_:.4f}\")"
   ]
  }
 ],
 "metadata": {
  "kernelspec": {
   "display_name": "Advanced-Fraud-Detection-env",
   "language": "python",
   "name": "python3"
  },
  "language_info": {
   "codemirror_mode": {
    "name": "ipython",
    "version": 3
   },
   "file_extension": ".py",
   "mimetype": "text/x-python",
   "name": "python",
   "nbconvert_exporter": "python",
   "pygments_lexer": "ipython3",
   "version": "3.12.5"
  }
 },
 "nbformat": 4,
 "nbformat_minor": 2
}
